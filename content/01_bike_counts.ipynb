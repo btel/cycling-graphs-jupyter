{
  "metadata": {
    "kernelspec": {
      "name": "python",
      "display_name": "Python (Pyodide)",
      "language": "python"
    },
    "language_info": {
      "codemirror_mode": {
        "name": "python",
        "version": 3
      },
      "file_extension": ".py",
      "mimetype": "text/x-python",
      "name": "python",
      "nbconvert_exporter": "python",
      "pygments_lexer": "ipython3",
      "version": "3.8"
    }
  },
  "nbformat_minor": 5,
  "nbformat": 4,
  "cells": [
    {
      "cell_type": "markdown",
      "source": "|  | |\n|-------------|----------------|\n| Author | [Bartosz Telenczuk](https://datascience.telenczuk.pl) |\n| Data source | [OpenData Paris](https://opendata.paris.fr) |\n| License | [CC BY 4.0](https://creativecommons.org/licenses/by/4.0/) |\n",
      "metadata": {},
      "id": "30e4f67f-dc96-4754-95c9-05e352dc28c3"
    },
    {
      "cell_type": "code",
      "source": "%%html\n<style>\ntable {float:left}\n</style>",
      "metadata": {
        "trusted": true
      },
      "execution_count": null,
      "outputs": [],
      "id": "d13bbfdb-c6ee-47ef-b035-ee2edc92eb95"
    },
    {
      "cell_type": "code",
      "source": "%matplotlib inline",
      "metadata": {
        "trusted": true
      },
      "execution_count": null,
      "outputs": [],
      "id": "878e07b0-a542-4f62-bd18-49469f1f3930"
    },
    {
      "cell_type": "code",
      "source": "%config InlineBackend.figure_formats = ['svg']",
      "metadata": {
        "trusted": true
      },
      "execution_count": null,
      "outputs": [],
      "id": "2308e64d-ea4c-4191-b786-b948d10c9280"
    },
    {
      "cell_type": "code",
      "source": "import numpy as np\n\nimport pandas as pd\nimport matplotlib.pyplot as plt\n\nfrom matplotlib import dates as mdates",
      "metadata": {
        "trusted": true
      },
      "execution_count": null,
      "outputs": [],
      "id": "ecfc9afe-d6ad-4c19-8baf-708c59ecb592"
    },
    {
      "cell_type": "code",
      "source": "import pyodide",
      "metadata": {
        "trusted": true
      },
      "execution_count": null,
      "outputs": [],
      "id": "aa85802b-4f21-4576-94a2-fae8479b6496"
    },
    {
      "cell_type": "code",
      "source": "query = \"Denfert\"\ndate = \"2022-06-06\"",
      "metadata": {
        "trusted": true
      },
      "execution_count": null,
      "outputs": [],
      "id": "001b6d68-dae3-4725-a405-e0b390baa342"
    },
    {
      "cell_type": "markdown",
      "source": "## Get data",
      "metadata": {},
      "id": "5a5befaa-3702-4fdc-9c0a-9782e8580e53"
    },
    {
      "cell_type": "markdown",
      "source": "Retrieve the cycle counts on a single day from two sensors in av. Denfert Rochereau (opposite directions).",
      "metadata": {},
      "id": "12000111-ae60-4538-b569-486fa2ae54a4"
    },
    {
      "cell_type": "code",
      "source": "all_records = []\nstart = 0\nbase_url = \"https://opendata.paris.fr/api/records/1.0/search/\"\ndataset = \"comptage-velo-donnees-compteurs\"\n",
      "metadata": {
        "trusted": true
      },
      "execution_count": null,
      "outputs": [],
      "id": "b8a42e2b-d296-4806-917d-580358eeaaef"
    },
    {
      "cell_type": "code",
      "source": "new_records = True\n\nwhile new_records:\n    url =  f\"{base_url}?dataset={dataset}&q={query}&refine.date={date}&start={start}\"\n    \n    response = await pyodide.http.pyfetch(url)\n\n    data = await response.json()\n    new_records = data[\"records\"]\n    all_records += new_records\n    start += data[\"parameters\"][\"rows\"]",
      "metadata": {
        "trusted": true
      },
      "execution_count": null,
      "outputs": [],
      "id": "d8f9e3d5-2f02-44f2-9c42-b2cd6019473a"
    },
    {
      "cell_type": "code",
      "source": "df = pd.json_normalize(all_records)\ndf.head()",
      "metadata": {
        "trusted": true
      },
      "execution_count": null,
      "outputs": [],
      "id": "e39134ad-6cdc-490b-90ab-c7c1c2ca5066"
    },
    {
      "cell_type": "code",
      "source": "df = df[\n    [\"fields.date\", \"fields.sum_counts\", \"fields.id_compteur\", \"fields.nom_compteur\"]\n]\ndf[\"timestamp\"] = pd.to_datetime(df[\"fields.date\"])",
      "metadata": {
        "trusted": true
      },
      "execution_count": null,
      "outputs": [],
      "id": "acb6c1ed-e8f2-49af-acaf-7102da3ecc8d"
    },
    {
      "cell_type": "markdown",
      "source": "## Preprocess",
      "metadata": {},
      "id": "e65e1acb-5b97-4667-805c-0bed72552a79"
    },
    {
      "cell_type": "markdown",
      "source": "The sensor in the direction of South is located in a small side road and many cyclist tend to rest on the main road. Therefore, we normalize by the maximum number of cyclist in the two sensors.",
      "metadata": {},
      "id": "f0ae750b-3844-49fa-9560-678d24b5b028"
    },
    {
      "cell_type": "code",
      "source": "max_flow = max(\n    df_counter[\"fields.sum_counts\"].sum()\n    for _, df_counter in df.groupby(\"fields.id_compteur\")\n)",
      "metadata": {
        "trusted": true
      },
      "execution_count": null,
      "outputs": [],
      "id": "bda9707c-1713-4484-984c-f619b956ece6"
    },
    {
      "cell_type": "code",
      "source": "counter_ids = df[\"fields.id_compteur\"].unique()",
      "metadata": {
        "trusted": true
      },
      "execution_count": null,
      "outputs": [],
      "id": "6195dca9-1b3e-4a7d-8a32-24508607d83b"
    },
    {
      "cell_type": "code",
      "source": "dfs = {}\nlabels = {\"100003098-101003098\": \"N→S\", \"100003096-353242251\": \"S→N\"}\nfor counter_id, df_counter in df.groupby(\"fields.id_compteur\"):\n    df_interp = (\n        df_counter.set_index(\"timestamp\")[\"fields.sum_counts\"]\n        .resample(\"1H\", offset=0)\n        .interpolate()\n    )\n    dfs[labels[counter_id]] = df_interp / df_interp.sum() * max_flow",
      "metadata": {
        "trusted": true
      },
      "execution_count": null,
      "outputs": [],
      "id": "96064599-9e9e-4f60-973a-b6b927759239"
    },
    {
      "cell_type": "code",
      "source": "df_interp_all = pd.DataFrame(dfs)\ndf_interp_all = df_interp_all.ewm(alpha=0.3).mean()",
      "metadata": {
        "trusted": true
      },
      "execution_count": null,
      "outputs": [],
      "id": "34608ef7-35dc-4f8d-9081-b8577ac9e024"
    },
    {
      "cell_type": "markdown",
      "source": "## Visualize",
      "metadata": {},
      "id": "e2cfee4e-65a0-4f4a-a4d4-b9e3ad896f17"
    },
    {
      "cell_type": "code",
      "source": "colors = [\n    \"#08F7FE\",  # teal/cyan\n    \"#FE53BB\",  # pink\n    \"#F5D300\",  # yellow\n    \"#00ff41\",  # matrix green\n]",
      "metadata": {
        "trusted": true
      },
      "execution_count": null,
      "outputs": [],
      "id": "354871f1-adca-4a68-93b1-f5957c458b25"
    },
    {
      "cell_type": "code",
      "source": "plt.figure()",
      "metadata": {
        "trusted": true
      },
      "execution_count": null,
      "outputs": [],
      "id": "664a709c-b405-4593-ad20-a7a635bc1d90"
    },
    {
      "cell_type": "code",
      "source": "plt.style.use(\"seaborn-dark\")\n\nfor param in [\"figure.facecolor\", \"axes.facecolor\", \"savefig.facecolor\"]:\n    plt.rcParams[param] = \"#212946\"  # bluish dark grey\n\nfor param in [\"text.color\", \"axes.labelcolor\", \"xtick.color\", \"ytick.color\"]:\n    plt.rcParams[param] = \"0.9\"  # very light grey",
      "metadata": {
        "trusted": true
      },
      "execution_count": null,
      "outputs": [],
      "id": "3fec21a6-c9c8-4d56-8d34-72486710491b"
    },
    {
      "cell_type": "code",
      "source": "fig, axes = plt.subplots(nrows=2, gridspec_kw={\"height_ratios\": [3, 2]})\n\ndf_interp_all.plot(color=colors, ax=axes[0], sharex=True, legend=False)\n\naxes[0].grid(color=\"#2A3459\")\naxes[0].legend(title=\"Direction\")\naxes[0].set_ylabel(\"number of cyclists\")\n\ndf_flow = df_interp_all[[\"N→S\", \"S→N\"]].diff(axis=1).dropna(axis=1)\ny_flow = df_flow.values[:, 0]\naxes[1].fill_between(\n    df_flow.index, y_flow, where=y_flow >= 0, color=colors[0], interpolate=True\n)\naxes[1].fill_between(\n    df_flow.index, y_flow, where=y_flow < 0, color=colors[1], interpolate=True\n)\naxes[1].plot(df_flow.index, y_flow, color=\"#CCCCCC\", lw=1)\n\naxes[1].xaxis.set_major_formatter(\n    mdates.DateFormatter(\"%H:%M\"),\n    # mdates.ConciseDateFormatter(ax.xaxis.get_major_locator())\n)\naxes[1].set_ylabel(\"net cyclist flow\")\n\nfig.suptitle(\"flow of cyclist on av Denfert Rochereau\")\naxes[1].set_xlabel(date)",
      "metadata": {
        "trusted": true
      },
      "execution_count": null,
      "outputs": [],
      "id": "3a7df89e-473f-4aa8-b6f4-38f81c039e95"
    },
    {
      "cell_type": "code",
      "source": "",
      "metadata": {},
      "execution_count": null,
      "outputs": [],
      "id": "92e8fb50-4bae-4406-86d5-f2ca8c99e58e"
    },
    {
      "cell_type": "code",
      "source": "",
      "metadata": {},
      "execution_count": null,
      "outputs": [],
      "id": "53a7d5f4-de09-4919-833d-4258d71b6862"
    }
  ]
}